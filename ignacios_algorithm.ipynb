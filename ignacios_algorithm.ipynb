{
 "cells": [
  {
   "cell_type": "code",
   "execution_count": 9,
   "id": "42cc9562",
   "metadata": {},
   "outputs": [],
   "source": [
    "import numpy as np\n",
    "import scipy.misc as smp\n",
    "from matplotlib import pyplot as plt\n",
    "from matplotlib import patches"
   ]
  },
  {
   "cell_type": "code",
   "execution_count": 10,
   "id": "2ae1055d",
   "metadata": {},
   "outputs": [],
   "source": [
    "from PIL import Image"
   ]
  },
  {
   "cell_type": "code",
   "execution_count": 11,
   "id": "9f216940",
   "metadata": {},
   "outputs": [],
   "source": [
    "n = 10\n",
    "data = np.zeros((n, n, 3), dtype=np.uint8)"
   ]
  },
  {
   "cell_type": "code",
   "execution_count": 12,
   "id": "c9d0b843",
   "metadata": {},
   "outputs": [
    {
     "data": {
      "image/png": "[encoded data removed]",
      "text/plain": [
       "<PIL.Image.Image image mode=RGB size=100x100 at 0x15418B134E20>"
      ]
     },
     "metadata": {},
     "output_type": "display_data"
    }
   ],
   "source": [
    "# data[5][5][:] = 255\n",
    "image = Image.fromarray(data)\n",
    "display(image.resize((10 * n, 10 * n), Image.NEAREST))"
   ]
  },
  {
   "cell_type": "code",
   "execution_count": 13,
   "id": "2745c22d",
   "metadata": {},
   "outputs": [],
   "source": [
    "PATH_to = '/home/maria/misc/ignacios_algorithm/'"
   ]
  },
  {
   "cell_type": "code",
   "execution_count": 29,
   "id": "cc617d49",
   "metadata": {},
   "outputs": [],
   "source": [
    "\n",
    "from matplotlib import cm\n"
   ]
  },
  {
   "cell_type": "code",
   "execution_count": 40,
   "id": "70fde4b5",
   "metadata": {},
   "outputs": [
    {
     "data": {
      "image/png": "[encoded data removed]",
      "text/html": [
       "<div style=\"vertical-align: middle;\"><strong>viridis</strong> </div><div class=\"cmap\"><img alt=\"viridis colormap\" title=\"viridis\" style=\"border: 1px solid #555;\" src=\"data:image/png;base64,iVBORw0KGgoAAAANSUhEUgAAAgAAAABACAYAAABsv8+/AAAAFnRFWHRUaXRsZQB2aXJpZGlzIGNvbG9ybWFwrE0mCwAAABx0RVh0RGVzY3JpcHRpb24AdmlyaWRpcyBjb2xvcm1hcAtjl3IAAAAwdEVYdEF1dGhvcgBNYXRwbG90bGliIHYzLjQuMywgaHR0cHM6Ly9tYXRwbG90bGliLm9yZwld89MAAAAydEVYdFNvZnR3YXJlAE1hdHBsb3RsaWIgdjMuNC4zLCBodHRwczovL21hdHBsb3RsaWIub3JnJ/ts9AAAAiJJREFUeJzt1kGSmzAURdEv2FqWkP0vJfQgMhQCGceV2Ttn4pL0EVQPum771X5vVVXVWv39XfrPeV193V5zS98f1sf5/fPjey73zu6/3Hv/uz2cz57f9vP68rxO9+/zre7nhvvG+et6vH92bw3PDfcsD+eX59+/53n96f3362/f87/vf5yr93Of72/fPV9P89tX3zGeH3OT8/07Zs+/32+TuXZZD8/VODf8W5uuH/b7vctlfuv7NazH8/t7ZnP7bz2cD3NL+/Ph3Hl+/efz83vWun/vuL++nquH9eu9w/uu6/vvOO49f/8xf77vOj+8b7Y/fMfse9ca/y7nv+d62a++X+f1vt+G/b7u+/u6TxzzS//tc2053QMABBEAABBIAABAIAEAAIEEAAAEEgAAEEgAAEAgAQAAgQQAAAQSAAAQSAAAQCABAACBBAAABBIAABBIAABAIAEAAIEEAAAEEgAAEEgAAEAgAQAAgQQAAAQSAAAQSAAAQCABAACBBAAABBIAABBIAABAIAEAAIEEAAAEEgAAEEgAAEAgAQAAgQQAAAQSAAAQSAAAQCABAACBBAAABBIAABBIAABAIAEAAIEEAAAEEgAAEEgAAEAgAQAAgQQAAAQSAAAQSAAAQCABAACBBAAABBIAABBIAABAIAEAAIEEAAAEEgAAEEgAAEAgAQAAgQQAAAQSAAAQSAAAQCABAACBBAAABBIAABBIAABAoB9ucImHxcKZtAAAAABJRU5ErkJggg==\"></div><div style=\"vertical-align: middle; max-width: 514px; display: flex; justify-content: space-between;\"><div style=\"float: left;\"><div title=\"#440154ff\" style=\"display: inline-block; width: 1em; height: 1em; margin: 0; vertical-align: middle; border: 1px solid #555; background-color: #440154ff;\"></div> under</div><div style=\"margin: 0 auto; display: inline-block;\">bad <div title=\"#00000000\" style=\"display: inline-block; width: 1em; height: 1em; margin: 0; vertical-align: middle; border: 1px solid #555; background-color: #00000000;\"></div></div><div style=\"float: right;\">over <div title=\"#fde725ff\" style=\"display: inline-block; width: 1em; height: 1em; margin: 0; vertical-align: middle; border: 1px solid #555; background-color: #fde725ff;\"></div></div>"
      ],
      "text/plain": [
       "<matplotlib.colors.ListedColormap at 0x1541c98ee880>"
      ]
     },
     "execution_count": 40,
     "metadata": {},
     "output_type": "execute_result"
    }
   ],
   "source": [
    "\n",
    "cmap.g\n",
    "\n",
    "# rgb = cmap(10)[np.newaxis, :, :3]"
   ]
  },
  {
   "cell_type": "code",
   "execution_count": 65,
   "id": "88715e98",
   "metadata": {},
   "outputs": [
    {
     "name": "stdout",
     "output_type": "stream",
     "text": [
      "2.0 2.0\n"
     ]
    },
    {
     "data": {
      "image/png": "[encoded data removed]",
      "text/plain": [
       "<Figure size 432x288 with 1 Axes>"
      ]
     },
     "metadata": {
      "needs_background": "light"
     },
     "output_type": "display_data"
    }
   ],
   "source": [
    "%matplotlib inline\n",
    "\n",
    "fig, ax = plt.subplots()\n",
    "\n",
    "cmap = cm.get_cmap('viridis')\n",
    "\n",
    "color_codes = [np.array(cmap(i)[:3]) * 255 for i in range(0, 500, 50)]\n",
    "# color_codes = [255, 0]\n",
    "n_colors = len(color_codes)\n",
    "\n",
    "for n in range(1000, 1050, 50):\n",
    "    pw0 = 20\n",
    "    pw1 = 10\n",
    "    data = np.zeros((n * pw0, n * pw1, 3), dtype=np.uint8)\n",
    "    j_color = [0 for i in range(n)]\n",
    "    # j_color = [255 for i in range(n)]\n",
    "    for i in range(0, n * pw0, pw0):\n",
    "        for j in range(0, n * pw1, pw1):\n",
    "            val = (j / pw1) + 1\n",
    "    #         val = i * n + j + 1\n",
    "            if i == 1 * pw0 and j == 1 * pw1:\n",
    "                print (val, val % (i * pw0 + 1))\n",
    "            if val % ((i // pw0 ) + 1) == 0 and j and i:\n",
    "                j_color[j // pw1] = (j_color[j // pw1] + 1) % n_colors\n",
    "                \n",
    "            data[i : i + pw0, j : j + pw1, :] = color_codes[j_color[j // pw1]]\n",
    "\n",
    "\n",
    "#             rect = patches.Rectangle((j , n - i ), 1, 1, linewidth=0, edgecolor='r',\n",
    "#                                      facecolor='black' if j_color[j] == 0 else 'white')\n",
    "#             ax.add_patch(rect)\n",
    "# \n",
    "#     ax.scatter([0], [0], c='white')\n",
    "    data = data[: n * pw1, : n * pw1, :]\n",
    "    plt.axis('off')\n",
    "    ax.set_aspect('equal')\n",
    "    \n",
    "    image = Image.fromarray(data)\n",
    "    image.save('{0}{1}.png'.format(PATH_to, n), format=\"png\")\n",
    "#     scaler = 1\n",
    "#     plt.imshow(data, interpolation='nearest')\n",
    "    \n",
    "#     plt.savefig('{0}{1}.png'.format(PATH_to, n), format=\"png\")\n",
    "#     plt.savefig('{0}{1}.pdf'.format(PATH_to, n), format=\"pdf\")\n",
    "#     display(image.resize((scaler * n, scaler * n), Image.NEAREST))\n",
    "# rect = patches.Rectangle((5 + 1, 5 + 1), 2, 2, linewidth=1, edgecolor='r',\n",
    "#                          facecolor='none')\n",
    "# plt.gca().add_patch(rect)"
   ]
  },
  {
   "cell_type": "code",
   "execution_count": 25,
   "id": "2e7ae27d",
   "metadata": {},
   "outputs": [
    {
     "data": {
      "text/plain": [
       "1"
      ]
     },
     "execution_count": 25,
     "metadata": {},
     "output_type": "execute_result"
    }
   ],
   "source": [
    "6 % 5"
   ]
  },
  {
   "cell_type": "markdown",
   "id": "d4ec7a62",
   "metadata": {},
   "source": [
    "#### "
   ]
  },
  {
   "cell_type": "code",
   "execution_count": null,
   "id": "3e9a0969",
   "metadata": {},
   "outputs": [],
   "source": []
  }
 ],
 "metadata": {
  "kernelspec": {
   "display_name": "Python 3",
   "language": "python",
   "name": "python3"
  },
  "language_info": {
   "codemirror_mode": {
    "name": "ipython",
    "version": 3
   },
   "file_extension": ".py",
   "mimetype": "text/x-python",
   "name": "python",
   "nbconvert_exporter": "python",
   "pygments_lexer": "ipython3",
   "version": "3.8.11"
  }
 },
 "nbformat": 4,
 "nbformat_minor": 5
}
