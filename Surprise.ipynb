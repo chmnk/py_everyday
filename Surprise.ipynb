{
 "cells": [
  {
   "cell_type": "code",
   "execution_count": 8,
   "metadata": {},
   "outputs": [],
   "source": [
    "word_ = 'ъхсензугплъзфнспёсуысънз'\n",
    "smth = '31C8'"
   ]
  },
  {
   "cell_type": "code",
   "execution_count": 3,
   "metadata": {},
   "outputs": [
    {
     "ename": "TypeError",
     "evalue": "unsupported operand type(s) for -: 'str' and 'str'",
     "output_type": "error",
     "traceback": [
      "\u001b[0;31m---------------------------------------------------------------------------\u001b[0m",
      "\u001b[0;31mTypeError\u001b[0m                                 Traceback (most recent call last)",
      "\u001b[0;32m<ipython-input-3-5f4fc2f484bf>\u001b[0m in \u001b[0;36m<module>\u001b[0;34m\u001b[0m\n\u001b[0;32m----> 1\u001b[0;31m \u001b[0;34m'а'\u001b[0m \u001b[0;34m-\u001b[0m \u001b[0;34m'ъ'\u001b[0m\u001b[0;34m\u001b[0m\u001b[0;34m\u001b[0m\u001b[0m\n\u001b[0m",
      "\u001b[0;31mTypeError\u001b[0m: unsupported operand type(s) for -: 'str' and 'str'"
     ]
    }
   ],
   "source": [
    "'а' - 'ъ'"
   ]
  },
  {
   "cell_type": "code",
   "execution_count": 22,
   "metadata": {},
   "outputs": [],
   "source": [
    "alph = 'абвгдеёжзийклмнопрстуфхцчшщъыьэюя'"
   ]
  },
  {
   "cell_type": "code",
   "execution_count": 5,
   "metadata": {},
   "outputs": [
    {
     "data": {
      "text/plain": [
       "26"
      ]
     },
     "execution_count": 5,
     "metadata": {},
     "output_type": "execute_result"
    }
   ],
   "source": [
    "alph.index('ъ') - alph.index('а')"
   ]
  },
  {
   "cell_type": "code",
   "execution_count": 23,
   "metadata": {},
   "outputs": [
    {
     "name": "stdout",
     "output_type": "stream",
     "text": [
      "фплязвнэйёфвозлйалнхлфзв\n",
      "хрмаигоюкжхгпимкбмоцмхиг\n",
      "цснбйдпялзцдрйнлвнпчнцйд\n",
      "чтовкерамическомгоршочке\n",
      "шупглёсбнйшётлпндпсщпшлё\n",
      "щфрдмжтвокщжумроертърщмж\n",
      "ъхсензугплъзфнспёсуысънз\n",
      "ыцтёоифдрмыихотржтфьтыои\n",
      "ьчужпйхесньйцпусзухэуьпй\n",
      "эшфзркцётоэкчрфтифцюфэрк\n",
      "ющхислчжупюлшсхуйхчяхюсл\n"
     ]
    }
   ],
   "source": [
    "for i in range(-6, 5):\n",
    "    print(''.join([alph[alph.index(a) + i] for a in word_]))"
   ]
  },
  {
   "cell_type": "code",
   "execution_count": 12,
   "metadata": {},
   "outputs": [
    {
     "data": {
      "text/plain": [
       "['ъ',\n",
       " 'х',\n",
       " 'с',\n",
       " 'е',\n",
       " 'н',\n",
       " 'з',\n",
       " 'у',\n",
       " 'г',\n",
       " 'п',\n",
       " 'л',\n",
       " 'ъ',\n",
       " 'з',\n",
       " 'ф',\n",
       " 'н',\n",
       " 'с',\n",
       " 'п',\n",
       " 'ё',\n",
       " 'с',\n",
       " 'у',\n",
       " 'ы',\n",
       " 'с',\n",
       " 'ъ',\n",
       " 'н',\n",
       " 'з']"
      ]
     },
     "execution_count": 12,
     "metadata": {},
     "output_type": "execute_result"
    }
   ],
   "source": [
    "[alph[alph.index(a) + 0] for a in word_]"
   ]
  }
 ],
 "metadata": {
  "kernelspec": {
   "display_name": "Python 3",
   "language": "python",
   "name": "python3"
  },
  "language_info": {
   "codemirror_mode": {
    "name": "ipython",
    "version": 3
   },
   "file_extension": ".py",
   "mimetype": "text/x-python",
   "name": "python",
   "nbconvert_exporter": "python",
   "pygments_lexer": "ipython3",
   "version": "3.6.9"
  }
 },
 "nbformat": 4,
 "nbformat_minor": 2
}
